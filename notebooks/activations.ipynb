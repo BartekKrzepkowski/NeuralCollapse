{
 "cells": [
  {
   "cell_type": "code",
   "execution_count": null,
   "metadata": {},
   "outputs": [],
   "source": [
    "import torch\n",
    "\n",
    "from src.utils.prepare import prepare_model"
   ]
  },
  {
   "cell_type": "code",
   "execution_count": null,
   "metadata": {},
   "outputs": [],
   "source": [
    "N = 1\n",
    "NUM_FEATURES = 3\n",
    "NUM_CLASSES = 10\n",
    "DIMS = [NUM_FEATURES, 32] + [64] * N + [128, NUM_CLASSES]\n",
    "CONV_PARAMS = {'img_height': 32, 'img_widht': 32, 'kernels': [3, 3] * (N + 1), 'strides': [1, 1] * (N + 1), 'paddings': [1, 1] * (N + 1), 'whether_pooling': [False, True] * (N + 1)}\n",
    "model_params = {'layers_dim': DIMS, 'activation_name': 'relu', 'conv_params': CONV_PARAMS}\n",
    "\n",
    "\n",
    "type_names = {\n",
    "        'model': 'simple_cnn_with_groupnorm',\n",
    "        'criterion': 'fp',\n",
    "        'dataset': 'cifar10',\n",
    "        'optim': 'sgd',\n",
    "        'scheduler': None\n",
    "    }\n",
    "device = torch.device(\"cuda\" if torch.cuda.is_available() else \"cpu\")\n",
    "\n",
    "model = prepare_model(type_names['model'], model_params=model_params).to(device)"
   ]
  },
  {
   "cell_type": "code",
   "execution_count": null,
   "metadata": {},
   "outputs": [],
   "source": [
    "acts = []\n",
    "\n",
    "def hook(module, input, output):\n",
    "    print(module._get_name())\n",
    "    acts.append(output)\n",
    "    print(output.shape)\n",
    "\n",
    "for layer in model.modules():\n",
    "    if isinstance(layer, torch.nn.Linear) or isinstance(layer, torch.nn.Conv2d):\n",
    "        # print(layer)\n",
    "        layer.register_forward_hook(hook)\n",
    "    # print(layer)\n",
    "    # layer.register_forward_hook(hook)"
   ]
  },
  {
   "cell_type": "code",
   "execution_count": null,
   "metadata": {},
   "outputs": [],
   "source": [
    "model(torch.randn(5, 3, 32, 32).to(device))"
   ]
  },
  {
   "cell_type": "code",
   "execution_count": null,
   "metadata": {},
   "outputs": [],
   "source": [
    "model"
   ]
  },
  {
   "cell_type": "code",
   "execution_count": null,
   "metadata": {},
   "outputs": [],
   "source": [
    "[act.shape for act in acts]"
   ]
  },
  {
   "cell_type": "code",
   "execution_count": null,
   "metadata": {},
   "outputs": [],
   "source": [
    "repr = acts[0].flatten(start_dim=1).T\n",
    "\n",
    "repr.T @ repr / 32768"
   ]
  },
  {
   "cell_type": "code",
   "execution_count": 2,
   "metadata": {},
   "outputs": [],
   "source": [
    "import torch"
   ]
  },
  {
   "cell_type": "code",
   "execution_count": 4,
   "metadata": {},
   "outputs": [],
   "source": [
    "repr = torch.randn(125, 4)"
   ]
  },
  {
   "cell_type": "code",
   "execution_count": 5,
   "metadata": {},
   "outputs": [],
   "source": [
    "rep = torch.cov(repr.T)\n",
    "result = torch.linalg.matrix_rank(rep)"
   ]
  },
  {
   "cell_type": "code",
   "execution_count": 6,
   "metadata": {},
   "outputs": [
    {
     "data": {
      "text/plain": [
       "(tensor(4),\n",
       " tensor([[ 0.9848,  0.0280, -0.0511,  0.0206],\n",
       "         [ 0.0280,  0.9555,  0.0173, -0.0737],\n",
       "         [-0.0511,  0.0173,  0.9532, -0.0058],\n",
       "         [ 0.0206, -0.0737, -0.0058,  0.6746]]))"
      ]
     },
     "execution_count": 6,
     "metadata": {},
     "output_type": "execute_result"
    }
   ],
   "source": [
    "result, rep"
   ]
  },
  {
   "cell_type": "code",
   "execution_count": 11,
   "metadata": {},
   "outputs": [],
   "source": [
    "repr1 = repr.mean(dim=0, keepdim=True)\n",
    "repr1 = repr - repr1\n",
    "rep2 = repr1.T @ repr1"
   ]
  },
  {
   "cell_type": "code",
   "execution_count": 14,
   "metadata": {},
   "outputs": [
    {
     "data": {
      "text/plain": [
       "tensor(1)"
      ]
     },
     "execution_count": 14,
     "metadata": {},
     "output_type": "execute_result"
    }
   ],
   "source": [
    "torch.linalg.matrix_rank(rep2 / rep)"
   ]
  },
  {
   "cell_type": "code",
   "execution_count": null,
   "metadata": {},
   "outputs": [],
   "source": [
    "from collections import defaultdict"
   ]
  },
  {
   "cell_type": "code",
   "execution_count": null,
   "metadata": {},
   "outputs": [],
   "source": [
    "d = defaultdict(lambda: None)"
   ]
  },
  {
   "cell_type": "code",
   "execution_count": null,
   "metadata": {},
   "outputs": [],
   "source": [
    "d['huh'] is None"
   ]
  },
  {
   "cell_type": "code",
   "execution_count": 15,
   "metadata": {},
   "outputs": [
    {
     "data": {
      "text/plain": [
       "tensor([79, 36, 19, 13, 64, 85, 37, 73, 20, 84,  7,  6, 46, 66, 16, 69, 65, 29,\n",
       "        11, 45, 61, 10, 31, 60, 23, 35, 43, 39, 94, 27, 12, 26, 80,  1, 75, 57,\n",
       "        40, 25, 90, 91, 55, 78, 87, 47, 15, 49, 24,  5, 28,  3, 86, 44, 38, 88,\n",
       "         9, 58, 93,  8, 67, 92,  4,  0, 14, 52, 98, 71, 17, 99, 82,  2, 95, 54,\n",
       "        48, 97, 22, 56, 83, 18, 77, 76, 33, 53, 59, 72, 74, 51, 34, 63, 89, 21,\n",
       "        50, 62, 32, 30, 42, 81, 41, 68, 70, 96])"
      ]
     },
     "execution_count": 15,
     "metadata": {},
     "output_type": "execute_result"
    }
   ],
   "source": [
    "torch.randperm(100)"
   ]
  },
  {
   "cell_type": "code",
   "execution_count": null,
   "metadata": {},
   "outputs": [],
   "source": []
  }
 ],
 "metadata": {
  "kernelspec": {
   "display_name": "clp_env",
   "language": "python",
   "name": "python3"
  },
  "language_info": {
   "codemirror_mode": {
    "name": "ipython",
    "version": 3
   },
   "file_extension": ".py",
   "mimetype": "text/x-python",
   "name": "python",
   "nbconvert_exporter": "python",
   "pygments_lexer": "ipython3",
   "version": "3.9.16"
  },
  "orig_nbformat": 4
 },
 "nbformat": 4,
 "nbformat_minor": 2
}
