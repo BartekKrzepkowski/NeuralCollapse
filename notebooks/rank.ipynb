{
 "cells": [
  {
   "cell_type": "code",
   "execution_count": 14,
   "metadata": {},
   "outputs": [
    {
     "name": "stdout",
     "output_type": "stream",
     "text": [
      "tensor(1)\n",
      "tensor(1)\n",
      "tensor(1)\n",
      "tensor(1)\n",
      "tensor(1)\n",
      "tensor(1)\n",
      "tensor(1)\n",
      "tensor(1)\n",
      "tensor(1)\n"
     ]
    }
   ],
   "source": [
    "import torch\n",
    "\n",
    "b = 128\n",
    "for i in range(1, 10):\n",
    "    rep = torch.randn(b, 2**i)\n",
    "    # torch\n",
    "    rep1 = torch.cov(rep.T)\n",
    "    # math\n",
    "    mi = rep.mean(dim=0, keepdim=True)\n",
    "    rep2 = rep - mi\n",
    "    rep2 = rep2.T @ rep2\n",
    "    \n",
    "    rep3 = rep2 / rep1\n",
    "    \n",
    "    print(torch.linalg.matrix_rank(rep3))\n",
    "    "
   ]
  }
 ],
 "metadata": {
  "kernelspec": {
   "display_name": "clp_env",
   "language": "python",
   "name": "python3"
  },
  "language_info": {
   "codemirror_mode": {
    "name": "ipython",
    "version": 3
   },
   "file_extension": ".py",
   "mimetype": "text/x-python",
   "name": "python",
   "nbconvert_exporter": "python",
   "pygments_lexer": "ipython3",
   "version": "3.9.16"
  },
  "orig_nbformat": 4
 },
 "nbformat": 4,
 "nbformat_minor": 2
}
